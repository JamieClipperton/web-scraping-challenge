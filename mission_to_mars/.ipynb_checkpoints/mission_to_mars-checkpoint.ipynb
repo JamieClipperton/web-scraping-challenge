{
 "cells": [
  {
   "cell_type": "code",
   "execution_count": 1,
   "id": "289860c0-758b-410b-a33d-90b89a2058b5",
   "metadata": {},
   "outputs": [],
   "source": [
    "from splinter import Browser\n",
    "from bs4 import BeautifulSoup as bs\n",
    "import requests\n",
    "import time\n",
    "from webdriver_manager.chrome import ChromeDriverManager"
   ]
  },
  {
   "cell_type": "code",
   "execution_count": 2,
   "id": "aca2d9ef-5288-48ba-ae20-6b50c33183f2",
   "metadata": {},
   "outputs": [
    {
     "name": "stdout",
     "output_type": "stream",
     "text": [
      "\n"
     ]
    },
    {
     "name": "stderr",
     "output_type": "stream",
     "text": [
      "[WDM] - ====== WebDriver manager ======\n",
      "INFO:WDM:====== WebDriver manager ======\n",
      "[WDM] - Current google-chrome version is 102.0.5005\n",
      "INFO:WDM:Current google-chrome version is 102.0.5005\n",
      "[WDM] - Get LATEST chromedriver version for 102.0.5005 google-chrome\n",
      "INFO:WDM:Get LATEST chromedriver version for 102.0.5005 google-chrome\n",
      "[WDM] - About to download new driver from https://chromedriver.storage.googleapis.com/102.0.5005.61/chromedriver_win32.zip\n",
      "INFO:WDM:About to download new driver from https://chromedriver.storage.googleapis.com/102.0.5005.61/chromedriver_win32.zip\n",
      "[WDM] - Driver has been saved in cache [C:\\Users\\babyg\\.wdm\\drivers\\chromedriver\\win32\\102.0.5005.61]\n",
      "INFO:WDM:Driver has been saved in cache [C:\\Users\\babyg\\.wdm\\drivers\\chromedriver\\win32\\102.0.5005.61]\n"
     ]
    }
   ],
   "source": [
    "executable_path = {'executable_path': ChromeDriverManager().install()}\n",
    "browser = Browser('chrome', **executable_path, headless=False)"
   ]
  },
  {
   "cell_type": "code",
   "execution_count": 3,
   "id": "4b3e8bf2-990d-49c2-afcf-8d6d3acf14a2",
   "metadata": {},
   "outputs": [],
   "source": [
    "url = \"https://redplanetscience.com/#\"\n",
    "browser.visit(url)"
   ]
  },
  {
   "cell_type": "code",
   "execution_count": 4,
   "id": "1d9012df-7baf-4dfe-8158-27f941757a5d",
   "metadata": {},
   "outputs": [],
   "source": [
    "time.sleep(10)\n",
    "\n",
    "html = browser.html\n",
    "soup = bs(html, 'html.parser')"
   ]
  },
  {
   "cell_type": "code",
   "execution_count": 8,
   "id": "ac422261-8293-4983-81b8-07ccb256a631",
   "metadata": {},
   "outputs": [
    {
     "data": {
      "text/plain": [
       "\"NASA's Curiosity Mars Rover Snaps Its Highest-Resolution Panorama Yet\""
      ]
     },
     "execution_count": 8,
     "metadata": {},
     "output_type": "execute_result"
    }
   ],
   "source": [
    "rp_article = soup.find('div', class_=\"list_text\")\n",
    "rp_news_title = rp_article.find('div', class_=\"content_title\").text\n",
    "rp_news_title"
   ]
  },
  {
   "cell_type": "code",
   "execution_count": 9,
   "id": "1d9ddcd4-acae-4479-b007-72c539b437a5",
   "metadata": {},
   "outputs": [
    {
     "data": {
      "text/plain": [
       "'To go along with the stunning 1.8-billion-pixel image, a new video offers a sweeping view of the Red Planet.'"
      ]
     },
     "execution_count": 9,
     "metadata": {},
     "output_type": "execute_result"
    }
   ],
   "source": [
    "rp_news_p = rp_article.find('div', class_=\"article_teaser_body\").text\n",
    "rp_news_p"
   ]
  },
  {
   "cell_type": "code",
   "execution_count": 13,
   "id": "d762d52c-00b3-4fec-b8f9-e8ee57669043",
   "metadata": {},
   "outputs": [],
   "source": [
    "space_image_url = 'https://spaceimages-mars.com/image/featured/mars1.jpg'\n"
   ]
  },
  {
   "cell_type": "code",
   "execution_count": null,
   "id": "886558c5-5ef1-49b3-b660-97cea0195835",
   "metadata": {},
   "outputs": [],
   "source": []
  }
 ],
 "metadata": {
  "kernelspec": {
   "display_name": "Python 3 (ipykernel)",
   "language": "python",
   "name": "python3"
  },
  "language_info": {
   "codemirror_mode": {
    "name": "ipython",
    "version": 3
   },
   "file_extension": ".py",
   "mimetype": "text/x-python",
   "name": "python",
   "nbconvert_exporter": "python",
   "pygments_lexer": "ipython3",
   "version": "3.9.7"
  }
 },
 "nbformat": 4,
 "nbformat_minor": 5
}
